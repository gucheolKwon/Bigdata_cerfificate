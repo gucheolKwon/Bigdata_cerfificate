{
  "nbformat": 4,
  "nbformat_minor": 0,
  "metadata": {
    "colab": {
      "provenance": [],
      "authorship_tag": "ABX9TyNCO0HgINJVgwJ90ZxKHqSq",
      "include_colab_link": true
    },
    "kernelspec": {
      "name": "python3",
      "display_name": "Python 3"
    },
    "language_info": {
      "name": "python"
    }
  },
  "cells": [
    {
      "cell_type": "markdown",
      "metadata": {
        "id": "view-in-github",
        "colab_type": "text"
      },
      "source": [
        "<a href=\"https://colab.research.google.com/github/gucheolKwon/Bigdata_cerfificate/blob/main/Bigdata_certificate_9th.ipynb\" target=\"_parent\"><img src=\"https://colab.research.google.com/assets/colab-badge.svg\" alt=\"Open In Colab\"/></a>"
      ]
    },
    {
      "cell_type": "code",
      "execution_count": null,
      "metadata": {
        "id": "hEUVrheSR0j2"
      },
      "outputs": [],
      "source": []
    },
    {
      "cell_type": "markdown",
      "source": [
        "# 작업형 제 1유형\n",
        "\n",
        "---\n",
        "\n",
        "1. 각 연도 및 성별의 총 대출액의 절댓값 차이를 구하고, 절댓값 차이가 가장 큰 지역 코드를 구하시오\n",
        "데이터 : 9_1_1.csv\n",
        "2. 각 연도별 최대 검거율을 가진 범죄유형을 찾아서 해당 연도 및 유형의 검거건수들의 총합을 구하시오\n",
        "(검거율 = 검거건수 / 발생건수)\n",
        "데이터 : 9_1_2.csv\n",
        "3. 제시된 문제를 순서대로 풀고, 해답을 제시하시오\n",
        "데이터 : 9_1_3.csv\n",
        "    1. 결측치 처리\n",
        "        1. 평균만족도 : 결측치는 평균만족도 컬럼의 전체 평균으로 채우시오.\n",
        "        2. 근속연수 : 결측치는 각 부서와 등급별 평균 근속연수로 채우시오 (평균값의 소수점은 버림처리)\n",
        "    2. 조건에 따른 평균 계산\n",
        "        1. A : 부서가 ‘HR’이고 등급이 ‘A’인 사람들의 평균 근속연수를 계산하시오\n",
        "        2. B : 부서가 ‘Sales’이고, 등급이 ‘B’인 사람들의 평균 교육참가횟수를 계산하시오\n",
        "        3. A와 B를 더한 값을 구하시오"
      ],
      "metadata": {
        "id": "83QsXT5YSEJX"
      }
    },
    {
      "cell_type": "code",
      "source": [],
      "metadata": {
        "id": "WCfIUjI1SKZL"
      },
      "execution_count": null,
      "outputs": []
    },
    {
      "cell_type": "markdown",
      "source": [
        "# 작업형 제 2유형\n",
        "\n",
        "1. 훈련 데이터로 학습한 모델을 테스트 데이터에 적용하여 예측한 결과를 제출하시오.\n",
        "(Target : 농업 유형(다중분류, {0, 1, 2}))\n",
        "데이터 : 9_2_train.csv, 9_2_test.csv\n",
        "    1. 제출 형식은 ID, pred 두 컬럼만 존재 (평가 지표 : Macro F1 Score)"
      ],
      "metadata": {
        "id": "xmzYSUVoSMBD"
      }
    },
    {
      "cell_type": "code",
      "source": [],
      "metadata": {
        "id": "Jqx8non6SQL6"
      },
      "execution_count": null,
      "outputs": []
    },
    {
      "cell_type": "markdown",
      "source": [
        "# 작업형 제 3유형\n",
        "\n",
        "1. 한 제조 회사에서 생산성을 높이고자 회원들의 주요 생산성 요인을 분석하기로 결정했다. 이를 위해 200명의 직원 데이터를 수집했으며, 직원들의 근무 기간, 특성 정보, 그리고 개인적인 속성을 조사했다.\n",
        "데이터 : 9_3_1.csv\n",
        "    1. Data description\n",
        "        1. id : 데이터의 고유 식별자\n",
        "        2. Tenure : 사용 기간\n",
        "        3. f2 : 고객의 두 번째 특성\n",
        "        4. f3 : 고객의 세 번째 특성\n",
        "        5. f4 : 고객의 네 번째 특성\n",
        "        6. f5 : 고객의 다섯 번째 특성\n",
        "        7. Design : 생산성 점수\n",
        "    2. 모든 컬럼을 활용하여 design을 예측하는 다중회귀 분석을 시행한 후 유의하지 않은 설명변수 개수를 구하시오 (패널티는 포함되지 않으며, 모델의 절편항은 포함)\n",
        "        1. 데이터 분리 조건\n",
        "            1. 훈련 데이터 : id1 ~ id 140\n",
        "            2. 테스트 데이터 : id141 ~ id200\n",
        "    3. 훈련 데이터(학습용 데이터)의 예측값과 실제값의 피어슨 상관계수를 구하시오\n",
        "    4. 적합한 모델을 활용하여 테스트 데이터에서의 RMSE를 구하시오\n",
        "    \n",
        "2. 한 통신회사에서는 고객 이탈을 줄이고자 주요 요인들을 분석하기로 결정했다. 이를 위해 500명의 고객 데이터를 수집했으며, 고객의 서비스 이용 및 가입 정보, 그리고 일부 개인적인 속성을 조사했다.\n",
        "데이터 : 9_3_2.csv\n",
        "    1. Data description\n",
        "        1. col1 : 고객의 첫 번째 특성\n",
        "        2. col2 : 고객의 두 번째 특성\n",
        "        3. Phone_Service : 폰 서비스 가입 여부\n",
        "        4. Tech_Insurance : 기술 보험 가입 여부\n",
        "        5. Churn : 이탈 여부\n",
        "    2. 고객 이탈을 예측하는 로지스틱 회귀를 시행한 후 col1 칼럼의 p-value를 구하시오\n",
        "    3. 폰 서비스를 받지 않은 고객 대비 받은 고객의 이탈 확률 오즈비를 구하시오\n",
        "    4. 이탈할 확률이 0.3 이상인 고객 수를 구하시오"
      ],
      "metadata": {
        "id": "qfyQlZTNSS-u"
      }
    },
    {
      "cell_type": "code",
      "source": [],
      "metadata": {
        "id": "rHGttK21SZGW"
      },
      "execution_count": null,
      "outputs": []
    }
  ]
}