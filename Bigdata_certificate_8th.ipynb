{
  "nbformat": 4,
  "nbformat_minor": 0,
  "metadata": {
    "colab": {
      "provenance": [],
      "toc_visible": true,
      "authorship_tag": "ABX9TyM7/Hg+r4HFLtVzJaMXmiJK",
      "include_colab_link": true
    },
    "kernelspec": {
      "name": "python3",
      "display_name": "Python 3"
    },
    "language_info": {
      "name": "python"
    }
  },
  "cells": [
    {
      "cell_type": "markdown",
      "metadata": {
        "id": "view-in-github",
        "colab_type": "text"
      },
      "source": [
        "<a href=\"https://colab.research.google.com/github/gucheolKwon/Bigdata_cerfificate/blob/main/Bigdata_certificate_8th.ipynb\" target=\"_parent\"><img src=\"https://colab.research.google.com/assets/colab-badge.svg\" alt=\"Open In Colab\"/></a>"
      ]
    },
    {
      "cell_type": "code",
      "execution_count": null,
      "metadata": {
        "id": "hEUVrheSR0j2"
      },
      "outputs": [],
      "source": []
    },
    {
      "cell_type": "markdown",
      "source": [
        "# 작업형 제1유형\n",
        "\n",
        "---\n",
        "\n",
        "1. 다음의 데이터는 대륙별 국가의 맥주소비량을 조사한 것이다.\n",
        "데이터 : 8_1_1.csv\n",
        "    1. 평균 맥주소비량이 가장 많은 대륙을 구하시오\n",
        "    2. 이전 문제에서 구한 대륙에서 5번째로 맥주소비량이 많은 나라를 구하시오\n",
        "    3. 이전 문제에서 구한 나라의 평균 맥주소비량을 구하시오 (소수점 첫째 자리에서 반올림)\n",
        "2. 다음의 데이터는 국가별로 방문객 유형을 조사한 것이다.\n",
        "데이터 : 8_1_2.csv\n",
        "    1. 관광객비율이 두 번째로 높은 나라의 ‘관광’ 수를 구하시오.\n",
        "        1. 관광객비율 = 관광/합계(소수점 넷째 자리에서 반올림)\n",
        "        2. 합계 = 관광 + 사무 + 공무 + 유학 + 기타\n",
        "    2. 관광 수가 두번째로 높은 나라의 ‘공무‘ 수의 평균을 구하시오. (소수점 첫째 자리에서 반올림)\n",
        "    3. 이전에 구한 관광 수와 공무 수의 합계를 구하시오.\n",
        "3. CO(GT), NMHC(GT) 칼럼에 대해서 Min-Max 스케일러를 실행하고, 스케일링된 CO(GT), NMHC(GT) 칼럼의 표준편차를 구하시오 (소수점 셋째 자리에서 반올림)\n",
        "데이터 : 8_1_3.csv"
      ],
      "metadata": {
        "id": "83QsXT5YSEJX"
      }
    },
    {
      "cell_type": "code",
      "source": [],
      "metadata": {
        "id": "WCfIUjI1SKZL"
      },
      "execution_count": null,
      "outputs": []
    },
    {
      "cell_type": "markdown",
      "source": [
        "# 작업형 제2유형\n",
        "\n",
        "1. 훈련 데이터로 학습한 모델을 테스트 데이터에 적용하여 예측한 결과를 제출하시오. (Target : count)\n",
        "데이터 : 8_2_train.csv, 8_2_test.csv\n",
        "    1. 제출 형식은 ID, pred 두 칼럼만 존재해야 한다 (평가 지표 : MAE)"
      ],
      "metadata": {
        "id": "xmzYSUVoSMBD"
      }
    },
    {
      "cell_type": "code",
      "source": [],
      "metadata": {
        "id": "Jqx8non6SQL6"
      },
      "execution_count": null,
      "outputs": []
    },
    {
      "cell_type": "markdown",
      "source": [
        "# 작업형 제3유형\n",
        "\n",
        "1. 어느 회사에서 직원들의 업무 효율성을 높이기 위한 새로운 소프트웨어를 도입했다. 도입 전과 도입 후의 업무 처리 시간을 각각 측정하여 새로운 소프트웨어의 효과를 검증하고자 한다.\n",
        "데이터 : 8_3_1.csv\n",
        "    1. 도입 전과 도입 후의 업무처리 시간의 평균과 표준편차를 구하시오 (소수점 둘째 자리까지 반올림)\n",
        "    2. 도입 전후의 업무처리 시간 차이가 유의미한 지 부호 순위 검정을 실시하고, 검정통계량을 계산하시오. (소수점 둘째 자리까지 반올림)\n",
        "    3. p-value를 바탕으로 유의수준 5%에서 귀무가설의 기각/채택 여부를 결정하시오 (p-value는 소수점 셋째자리까지 반올림)\n",
        "2. 어느 회사에서 직원들의 생산성에 영향을 미치는 요인이 무엇인지 확인하고자 한다. 100명의 직우너들을 대상으로 생산성 점수, 근무 시간, 연령, 그리고 경력을 조사했다.\n",
        "데이터 : 8_3_2_train.csv, 8_3_2_test.csv\n",
        "    1. 훈련 데이터를 기준으로 생산성 점수를 종속변수로 하고, 근무 시간, 연령 그리고 경력을 독립변수로 하는 다중회귀 분석을 수행한 후, 회귀계수가 가장 높은 변수를 구하시오 (다중회귀모형 적합 시 절편 포함)\n",
        "    2. 유의수준 5% 하에서 각 독립변수가 생산성에 미치는 영향이 통계적으로 유의미한지 판단하고, 유의미한 변수 개수를 구하시오 (p-value는 소수점 넷째 자리까지 반올림)\n",
        "    3. 테스트 데이터로 모델의 성능을 평가하시오 (R2 산출)"
      ],
      "metadata": {
        "id": "qfyQlZTNSS-u"
      }
    },
    {
      "cell_type": "code",
      "source": [],
      "metadata": {
        "id": "rHGttK21SZGW"
      },
      "execution_count": null,
      "outputs": []
    }
  ]
}